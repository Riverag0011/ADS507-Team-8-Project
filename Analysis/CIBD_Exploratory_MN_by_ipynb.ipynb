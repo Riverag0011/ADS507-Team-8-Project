{
 "cells": [
  {
   "cell_type": "markdown",
   "id": "7a37b03c",
   "metadata": {},
   "source": [
    "# Cancer_Insurance"
   ]
  },
  {
   "cell_type": "code",
   "execution_count": 1,
   "id": "6148c6d8",
   "metadata": {},
   "outputs": [],
   "source": [
    "import numpy as np\n",
    "import pandas as pd\n",
    "import pymysql as mysql\n",
    "import matplotlib.pyplot as plt\n",
    "import seaborn as sns"
   ]
  },
  {
   "cell_type": "code",
   "execution_count": 2,
   "id": "cefd31e5",
   "metadata": {},
   "outputs": [],
   "source": [
    "import warnings\n",
    "warnings.filterwarnings('ignore')"
   ]
  },
  {
   "cell_type": "code",
   "execution_count": 3,
   "id": "582646c2",
   "metadata": {},
   "outputs": [],
   "source": [
    "conn=mysql.connect(host='localhost',port=int(3306),user='root',passwd='Mindy1269!',db='cancer_insur')"
   ]
  },
  {
   "cell_type": "code",
   "execution_count": 4,
   "id": "3f7135f6",
   "metadata": {},
   "outputs": [
    {
     "name": "stdout",
     "output_type": "stream",
     "text": [
      "  Tables_in_cancer_insur\n",
      "0               behavior\n",
      "1                 factor\n",
      "2         insurance_info\n",
      "3                patient\n",
      "4                symptom\n"
     ]
    }
   ],
   "source": [
    "tableNames = pd.read_sql(\"\"\"SHOW TABLES\"\"\", conn)\n",
    "print(tableNames)"
   ]
  },
  {
   "cell_type": "code",
   "execution_count": 7,
   "id": "5a9ff919",
   "metadata": {},
   "outputs": [],
   "source": [
    "behavior_df = pd.read_sql(\"select * from behavior\", conn)\n",
    "\n",
    "patient_df = pd.read_sql(\"select * from patient\", conn)\n",
    "\n",
    "factor_df = pd.read_sql(\"select * from factor\", conn)\n",
    "\n",
    "insurance_info_df = pd.read_sql(\"select * from insurance_info\", conn)\n",
    "\n",
    "symptom_df = pd.read_sql(\"select * from symptom\", conn)"
   ]
  },
  {
   "cell_type": "code",
   "execution_count": 8,
   "id": "f740ad17",
   "metadata": {},
   "outputs": [
    {
     "name": "stdout",
     "output_type": "stream",
     "text": [
      "<class 'pandas.core.frame.DataFrame'>\n",
      "RangeIndex: 1675 entries, 0 to 1674\n",
      "Data columns (total 5 columns):\n",
      " #   Column         Non-Null Count  Dtype \n",
      "---  ------         --------------  ----- \n",
      " 0   behavior_id    1675 non-null   int64 \n",
      " 1   alcohol_use    1675 non-null   int64 \n",
      " 2   smoker         1675 non-null   object\n",
      " 3   balanced_diet  1675 non-null   int64 \n",
      " 4   patient_id     1675 non-null   int64 \n",
      "dtypes: int64(4), object(1)\n",
      "memory usage: 65.6+ KB\n"
     ]
    }
   ],
   "source": [
    "behavior_df.info()"
   ]
  },
  {
   "cell_type": "code",
   "execution_count": 9,
   "id": "b99adedb",
   "metadata": {},
   "outputs": [
    {
     "name": "stdout",
     "output_type": "stream",
     "text": [
      "<class 'pandas.core.frame.DataFrame'>\n",
      "RangeIndex: 1558 entries, 0 to 1557\n",
      "Data columns (total 7 columns):\n",
      " #   Column      Non-Null Count  Dtype \n",
      "---  ------      --------------  ----- \n",
      " 0   patient_id  1558 non-null   int64 \n",
      " 1   age         1558 non-null   int64 \n",
      " 2   gender      1558 non-null   int64 \n",
      " 3   bmi_cat     1558 non-null   object\n",
      " 4   children    1558 non-null   int64 \n",
      " 5   region      1558 non-null   object\n",
      " 6   cancer_id   1558 non-null   int64 \n",
      "dtypes: int64(5), object(2)\n",
      "memory usage: 85.3+ KB\n"
     ]
    }
   ],
   "source": [
    "patient_df.info()"
   ]
  },
  {
   "cell_type": "code",
   "execution_count": 10,
   "id": "2c28ea28",
   "metadata": {},
   "outputs": [
    {
     "name": "stdout",
     "output_type": "stream",
     "text": [
      "<class 'pandas.core.frame.DataFrame'>\n",
      "RangeIndex: 50 entries, 0 to 49\n",
      "Data columns (total 7 columns):\n",
      " #   Column                Non-Null Count  Dtype\n",
      "---  ------                --------------  -----\n",
      " 0   factor_id             50 non-null     int64\n",
      " 1   air_pollution         50 non-null     int64\n",
      " 2   dust_allergy          50 non-null     int64\n",
      " 3   occupational_hazards  50 non-null     int64\n",
      " 4   genetic_risk          50 non-null     int64\n",
      " 5   chronic_lung_disease  50 non-null     int64\n",
      " 6   cancer_id             50 non-null     int64\n",
      "dtypes: int64(7)\n",
      "memory usage: 2.9 KB\n"
     ]
    }
   ],
   "source": [
    "factor_df.info()"
   ]
  },
  {
   "cell_type": "code",
   "execution_count": 11,
   "id": "433558fb",
   "metadata": {},
   "outputs": [
    {
     "name": "stdout",
     "output_type": "stream",
     "text": [
      "<class 'pandas.core.frame.DataFrame'>\n",
      "RangeIndex: 1717 entries, 0 to 1716\n",
      "Data columns (total 3 columns):\n",
      " #   Column        Non-Null Count  Dtype\n",
      "---  ------        --------------  -----\n",
      " 0   insurance_id  1717 non-null   int64\n",
      " 1   charge_level  1717 non-null   int64\n",
      " 2   patient_id    1717 non-null   int64\n",
      "dtypes: int64(3)\n",
      "memory usage: 40.4 KB\n"
     ]
    }
   ],
   "source": [
    "insurance_info_df.info()"
   ]
  },
  {
   "cell_type": "code",
   "execution_count": 12,
   "id": "e083c80a",
   "metadata": {},
   "outputs": [
    {
     "name": "stdout",
     "output_type": "stream",
     "text": [
      "<class 'pandas.core.frame.DataFrame'>\n",
      "RangeIndex: 46 entries, 0 to 45\n",
      "Data columns (total 13 columns):\n",
      " #   Column                   Non-Null Count  Dtype \n",
      "---  ------                   --------------  ----- \n",
      " 0   cancer_id                46 non-null     int64 \n",
      " 1   chest_pain               46 non-null     int64 \n",
      " 2   coughing_of_blood        46 non-null     int64 \n",
      " 3   fatigue                  46 non-null     int64 \n",
      " 4   weight_loss              46 non-null     int64 \n",
      " 5   shortness_of_breath      46 non-null     int64 \n",
      " 6   wheezing                 46 non-null     int64 \n",
      " 7   swallowing_wifficulty    46 non-null     int64 \n",
      " 8   clubbing_of_inger_nails  46 non-null     int64 \n",
      " 9   frequent_cold            46 non-null     int64 \n",
      " 10  dry_cough                46 non-null     int64 \n",
      " 11  snoring                  46 non-null     int64 \n",
      " 12  cancer_level             46 non-null     object\n",
      "dtypes: int64(12), object(1)\n",
      "memory usage: 4.8+ KB\n"
     ]
    }
   ],
   "source": [
    "symptom_df.info()"
   ]
  },
  {
   "cell_type": "markdown",
   "id": "45a21500",
   "metadata": {},
   "source": [
    "## People by region"
   ]
  },
  {
   "cell_type": "code",
   "execution_count": 13,
   "id": "3d43c4f9",
   "metadata": {},
   "outputs": [
    {
     "name": "stdout",
     "output_type": "stream",
     "text": [
      "      region  cnt\n",
      "0  northwest  410\n",
      "1  southeast  381\n",
      "2  northeast  388\n",
      "3  southwest  379\n"
     ]
    }
   ],
   "source": [
    "region = \"select region, count(*) as cnt from patient group by region\"\n",
    "dfregion = pd.read_sql_query(region, conn)\n",
    "\n",
    "print(dfregion)"
   ]
  },
  {
   "cell_type": "markdown",
   "id": "1c80e0d0",
   "metadata": {},
   "source": [
    "## Average Factor by Level of Cancer_ID"
   ]
  },
  {
   "cell_type": "code",
   "execution_count": 14,
   "id": "2fa6c2f4",
   "metadata": {},
   "outputs": [
    {
     "name": "stdout",
     "output_type": "stream",
     "text": [
      "    cancer_id  avg_pollution  avg_dust_all  avg_occ_hazards  avg_genetic  \\\n",
      "0          46            3.0           1.0              1.0          2.0   \n",
      "1          45            2.0           4.0              2.0          1.0   \n",
      "2          44            2.0           1.0              3.0          2.0   \n",
      "3          43            4.0           3.0              4.0          2.0   \n",
      "4          42            1.0           2.0              3.0          2.0   \n",
      "5          41            2.0           3.0              4.0          3.0   \n",
      "6          40            4.0           3.0              2.0          1.0   \n",
      "7          39            2.0           1.0              4.0          3.0   \n",
      "8          38            1.0           4.0              5.0          6.0   \n",
      "9          37            2.0           6.0              7.0          7.0   \n",
      "10         36            6.0           8.0              7.0          6.0   \n",
      "11         35            2.0           2.0              3.0          4.0   \n",
      "12         34            2.0           5.0              6.0          5.0   \n",
      "13         33            3.0           1.0              3.0          2.0   \n",
      "14         32            2.0           5.0              2.0          1.0   \n",
      "15         31            5.0           3.0              1.0          2.0   \n",
      "16         30            3.0           3.0              2.0          3.0   \n",
      "17         29            3.0           1.0              3.0          2.0   \n",
      "18         28            3.0           2.0              1.0          1.0   \n",
      "19         27            2.0           5.0              6.0          5.0   \n",
      "20         26            6.0           7.0              7.0          6.0   \n",
      "21         25            3.0           4.0              2.0          3.0   \n",
      "22         24            4.0           6.0              6.0          5.0   \n",
      "23         23            2.0           2.0              1.0          3.0   \n",
      "24         22            6.0           7.0              7.0          7.0   \n",
      "25         21            1.0           7.0              5.0          3.0   \n",
      "26         20            3.0           4.0              3.0          2.0   \n",
      "27         19            3.0           1.0              2.0          3.0   \n",
      "28         18            2.0           4.0              2.0          4.0   \n",
      "29         17            1.0           3.0              4.0          2.0   \n",
      "30         16            6.5           7.0              7.0          7.0   \n",
      "31         15            7.0           7.0              7.0          7.0   \n",
      "32         14            6.5           7.0              7.0          6.0   \n",
      "33         13            2.0           2.0              1.0          2.0   \n",
      "34         12            2.0           2.0              3.0          6.0   \n",
      "35         11            4.0           6.0              5.0          6.0   \n",
      "36         10            6.0           7.0              7.0          7.0   \n",
      "37          9            2.0           5.0              3.0          2.0   \n",
      "38          8            1.0           2.0              4.0          2.0   \n",
      "39          7            5.0           6.0              5.0          5.0   \n",
      "40          6            1.0           7.0              8.0          7.0   \n",
      "41          5            6.0           7.0              7.0          7.0   \n",
      "42          4            6.0           7.0              7.0          7.0   \n",
      "43          3            3.0           4.0              2.0          3.0   \n",
      "44          2            6.0           7.0              7.0          7.0   \n",
      "45          1            2.0           5.0              4.0          3.0   \n",
      "\n",
      "    avg_lung_dis  factor_id  \n",
      "0            3.0       49.0  \n",
      "1            1.0       48.0  \n",
      "2            5.0       47.0  \n",
      "3            3.0       46.0  \n",
      "4            4.0       45.0  \n",
      "5            5.0       44.0  \n",
      "6            2.0       43.0  \n",
      "7            2.0       42.0  \n",
      "8            5.0       41.0  \n",
      "9            7.0       40.0  \n",
      "10           7.0       39.0  \n",
      "11           3.0       38.0  \n",
      "12           5.0       37.0  \n",
      "13           1.0       36.0  \n",
      "14           1.0       35.0  \n",
      "15           3.0       34.0  \n",
      "16           2.0       33.0  \n",
      "17           4.0       32.0  \n",
      "18           1.0       31.0  \n",
      "19           5.0       30.0  \n",
      "20           7.0       29.0  \n",
      "21           2.0       27.0  \n",
      "22           4.0       25.0  \n",
      "23           2.0       24.0  \n",
      "24           6.0       23.0  \n",
      "25           2.0       22.0  \n",
      "26           3.0       21.0  \n",
      "27           5.0       20.0  \n",
      "28           3.0       19.0  \n",
      "29           4.0       17.0  \n",
      "30           6.0       22.0  \n",
      "31           6.0       16.5  \n",
      "32           7.0       20.0  \n",
      "33           1.0       13.0  \n",
      "34           6.0       12.0  \n",
      "35           5.0       11.0  \n",
      "36           6.0       10.0  \n",
      "37           3.0        9.0  \n",
      "38           6.0        8.0  \n",
      "39           4.0       28.5  \n",
      "40           6.0        6.0  \n",
      "41           7.0        5.0  \n",
      "42           6.0        4.0  \n",
      "43           2.0        3.0  \n",
      "44           6.0        2.0  \n",
      "45           2.0        1.0  \n"
     ]
    }
   ],
   "source": [
    "lvlvs = \"select cancer_id, avg(air_pollution) as avg_pollution, avg(dust_allergy) as avg_dust_all, avg(occupational_hazards) as avg_occ_hazards, avg(genetic_risk) as avg_genetic, avg(chronic_lung_disease) as avg_lung_dis, avg(factor_id) as factor_id from factor group by cancer_id order by cancer_id desc   \"\n",
    "dflvlvs = pd.read_sql_query(lvlvs, conn)\n",
    "\n",
    "print(dflvlvs)"
   ]
  },
  {
   "cell_type": "markdown",
   "id": "7bd4c30e",
   "metadata": {},
   "source": [
    "## Average Symptom by Level of Cancer_ID"
   ]
  },
  {
   "cell_type": "code",
   "execution_count": 16,
   "id": "1fbe04d8",
   "metadata": {},
   "outputs": [
    {
     "name": "stdout",
     "output_type": "stream",
     "text": [
      "    cancer_id  avg_chests_pain  avg_cough_blood  avg_fatigue  avg_wt_loss  \\\n",
      "0          46              4.0              3.0          2.0          5.0   \n",
      "1          45              1.0              5.0          2.0          1.0   \n",
      "2          44              2.0              5.0          3.0          2.0   \n",
      "3          43              2.0              4.0          1.0          3.0   \n",
      "4          42              1.0              1.0          1.0          1.0   \n",
      "5          41              1.0              2.0          3.0          2.0   \n",
      "6          40              1.0              4.0          2.0          6.0   \n",
      "7          39              4.0              3.0          1.0          2.0   \n",
      "8          38              7.0              2.0          3.0          8.0   \n",
      "9          37              7.0              4.0          2.0          1.0   \n",
      "10         36              7.0              8.0          2.0          3.0   \n",
      "11         35              6.0              2.0          1.0          1.0   \n",
      "12         34              2.0              3.0          8.0          7.0   \n",
      "13         33              2.0              2.0          2.0          2.0   \n",
      "14         32              2.0              4.0          2.0          1.0   \n",
      "15         31              1.0              3.0          1.0          1.0   \n",
      "16         30              1.0              1.0          1.0          2.0   \n",
      "17         29              3.0              2.0          4.0          3.0   \n",
      "18         28              3.0              6.0          2.0          1.0   \n",
      "19         27              6.0              5.0          5.0          3.0   \n",
      "20         26              9.0              6.0          5.0          2.0   \n",
      "21         25              4.0              2.0          2.0          2.0   \n",
      "22         24              6.0              6.0          5.0          3.0   \n",
      "23         23              2.0              2.0          2.0          2.0   \n",
      "24         22              7.0              7.0          5.0          3.0   \n",
      "25         21              2.0              2.0          3.0          3.0   \n",
      "26         20              3.0              1.0          3.0          2.0   \n",
      "27         19              1.0              1.0          1.0          1.0   \n",
      "28         18              4.0              4.0          1.0          2.0   \n",
      "29         17              3.0              4.0          4.0          1.0   \n",
      "30         16              7.0              7.0          2.0          7.0   \n",
      "31         15              7.0              9.0          3.0          2.0   \n",
      "32         14              7.0              8.0          4.0          2.0   \n",
      "33         13              2.0              1.0          3.0          4.0   \n",
      "34         12              7.0              6.0          5.0          5.0   \n",
      "35         11              6.0              5.0          1.0          4.0   \n",
      "36         10              4.0              3.0          2.0          7.0   \n",
      "37          9              2.0              4.0          6.0          7.0   \n",
      "38          8              3.0              4.0          4.0          2.0   \n",
      "39          7              4.0              8.0          8.0          7.0   \n",
      "40          6              8.0              7.0          3.0          2.0   \n",
      "41          5              7.0              7.0          8.0          5.0   \n",
      "42          4              7.0              7.0          9.0          6.0   \n",
      "43          3              3.0              3.0          4.0          5.0   \n",
      "44          2              7.0              7.0          4.0          4.0   \n",
      "45          1              2.0              4.0          3.0          4.0   \n",
      "\n",
      "    avg_shortness_breath  avg_wheezing  avg_swallowing_diff  \\\n",
      "0                    2.0           1.0                  2.0   \n",
      "1                    3.0           2.0                  1.0   \n",
      "2                    1.0           2.0                  3.0   \n",
      "3                    4.0           2.0                  4.0   \n",
      "4                    1.0           2.0                  3.0   \n",
      "5                    1.0           3.0                  2.0   \n",
      "6                    1.0           2.0                  4.0   \n",
      "7                    3.0           4.0                  5.0   \n",
      "8                    7.0           3.0                  8.0   \n",
      "9                    3.0           2.0                  2.0   \n",
      "10                   6.0           4.0                  2.0   \n",
      "11                   1.0           2.0                  1.0   \n",
      "12                   7.0           3.0                  8.0   \n",
      "13                   1.0           3.0                  4.0   \n",
      "14                   3.0           4.0                  6.0   \n",
      "15                   1.0           1.0                  1.0   \n",
      "16                   3.0           2.0                  5.0   \n",
      "17                   2.0           1.0                  2.0   \n",
      "18                   2.0           3.0                  4.0   \n",
      "19                   2.0           1.0                  4.0   \n",
      "20                   5.0           2.0                  3.0   \n",
      "21                   3.0           4.0                  1.0   \n",
      "22                   2.0           4.0                  3.0   \n",
      "23                   3.0           2.0                  1.0   \n",
      "24                   2.0           7.0                  8.0   \n",
      "25                   7.0           7.0                  4.0   \n",
      "26                   2.0           4.0                  2.0   \n",
      "27                   1.0           3.0                  2.0   \n",
      "28                   4.0           6.0                  5.0   \n",
      "29                   2.0           4.0                  6.0   \n",
      "30                   6.0           7.0                  6.0   \n",
      "31                   4.0           1.0                  4.0   \n",
      "32                   3.0           1.0                  4.0   \n",
      "33                   5.0           1.0                  3.0   \n",
      "34                   4.0           6.0                  5.0   \n",
      "35                   3.0           2.0                  4.0   \n",
      "36                   6.0           5.0                  1.0   \n",
      "37                   2.0           5.0                  8.0   \n",
      "38                   2.0           2.0                  3.0   \n",
      "39                   9.0           2.0                  1.0   \n",
      "40                   6.0           4.0                  2.0   \n",
      "41                   7.0           6.0                  7.0   \n",
      "42                   5.0           7.0                  2.0   \n",
      "43                   6.0           5.0                  5.0   \n",
      "44                   5.0           6.0                  5.0   \n",
      "45                   2.0           2.0                  3.0   \n",
      "\n",
      "    avg_clubbing_finger_nails  savg_frequent_cold  avg_dry_cough  avg_snoring  \n",
      "0                         3.0                 4.0            5.0          2.0  \n",
      "1                         3.0                 2.0            1.0          2.0  \n",
      "2                         1.0                 3.0            4.0          2.0  \n",
      "3                         2.0                 4.0            3.0          1.0  \n",
      "4                         4.0                 5.0            2.0          1.0  \n",
      "5                         4.0                 2.0            1.0          1.0  \n",
      "6                         2.0                 1.0            2.0          3.0  \n",
      "7                         1.0                 2.0            3.0          4.0  \n",
      "8                         3.0                 2.0            3.0          1.0  \n",
      "9                         1.0                 2.0            5.0          1.0  \n",
      "10                        3.0                 1.0            2.0          1.0  \n",
      "11                        2.0                 3.0            1.0          2.0  \n",
      "12                        9.0                 1.0            6.0          2.0  \n",
      "13                        4.0                 1.0            4.0          1.0  \n",
      "14                        1.0                 3.0            2.0          2.0  \n",
      "15                        3.0                 2.0            4.0          2.0  \n",
      "16                        1.0                 5.0            1.0          1.0  \n",
      "17                        4.0                 2.0            3.0          2.0  \n",
      "18                        2.0                 1.0            1.0          1.0  \n",
      "19                        7.0                 2.0            1.0          6.0  \n",
      "20                        2.0                 1.0            7.0          6.0  \n",
      "21                        5.0                 2.0            6.0          2.0  \n",
      "22                        1.0                 7.0            5.0          6.0  \n",
      "23                        2.0                 3.0            2.0          3.0  \n",
      "24                        2.0                 4.0            5.0          3.0  \n",
      "25                        8.0                 7.0            7.0          5.0  \n",
      "26                        2.0                 3.0            4.0          3.0  \n",
      "27                        3.0                 2.0            3.0          3.0  \n",
      "28                        4.0                 2.0            1.0          5.0  \n",
      "29                        5.0                 4.0            2.0          5.0  \n",
      "30                        7.0                 2.0            3.0          1.0  \n",
      "31                        2.0                 4.0            2.0          3.0  \n",
      "32                        5.0                 6.0            7.0          5.0  \n",
      "33                        2.0                 1.0            2.0          2.0  \n",
      "34                        4.0                 6.0            5.0          7.0  \n",
      "35                        6.0                 2.0            4.0          1.0  \n",
      "36                        9.0                 3.0            4.0          2.0  \n",
      "37                        1.0                 3.0            2.0          3.0  \n",
      "38                        2.0                 1.0            2.0          4.0  \n",
      "39                        4.0                 6.0            7.0          2.0  \n",
      "40                        3.0                 1.0            2.0          1.0  \n",
      "41                        8.0                 7.0            6.0          2.0  \n",
      "42                        4.0                 3.0            1.0          4.0  \n",
      "43                        4.0                 6.0            5.0          4.0  \n",
      "44                        5.0                 4.0            6.0          5.0  \n",
      "45                        1.0                 2.0            3.0          4.0  \n"
     ]
    }
   ],
   "source": [
    "sym = \"select cancer_id,  avg(chest_pain) as avg_chests_pain, avg(coughing_of_blood) as avg_cough_blood, avg(fatigue) as avg_fatigue, avg(weight_loss) as avg_wt_loss, avg(shortness_of_breath) as avg_shortness_breath, avg(wheezing) as avg_wheezing, avg(swallowing_wifficulty) as avg_swallowing_diff, avg(clubbing_of_inger_nails) as avg_clubbing_finger_nails, avg(frequent_cold) as savg_frequent_cold, avg(dry_cough) as avg_dry_cough, avg(snoring) as avg_snoring from symptom group by cancer_id order by cancer_id desc\"\n",
    "dfsym = pd.read_sql_query(sym, conn)\n",
    "\n",
    "print(dfsym)"
   ]
  },
  {
   "cell_type": "markdown",
   "id": "8c4d636d",
   "metadata": {},
   "source": [
    "## Average Cancer_Id and Max bmi by Age Group"
   ]
  },
  {
   "cell_type": "code",
   "execution_count": 17,
   "id": "ca7ca56b",
   "metadata": {},
   "outputs": [
    {
     "name": "stdout",
     "output_type": "stream",
     "text": [
      "  age_group bmi_cat  cancer_id\n",
      "0     11-20  normal    13.2619\n",
      "1     21-30  normal    21.6442\n",
      "2     31-40  normal    12.9699\n",
      "3     41-50  normal    19.0824\n",
      "4     51-60  normal    15.7815\n",
      "5     61-70  normal    23.1154\n"
     ]
    }
   ],
   "source": [
    "bmi = \"select case when age between 0 and 10 then '0-10' when age between 11 and 20 then '11-20' when age between 21 and 30 then '21-30' when age between 31 and 40 then '31-40' when age between 41 and 50 then '41-50' when age between 51 and 60 then '51-60' when age between 61 and 70 then '61-70' else '>70' end as age_group, max(bmi_cat) as bmi_cat, avg(cancer_id) as cancer_id from patient group by case when age between 0 and 10 then '0-10' when age between 11 and 20 then '11-20' when age between 21 and 30 then '21-30' when age between 31 and 40 then '31-40' when age between 41 and 50 then '41-50' when age between 51 and 60 then '51-60' when age between 61 and 70 then '61-70' else '>70' end  order by age_group\" \n",
    "dfbmi = pd.read_sql_query(bmi, conn)\n",
    "\n",
    "print(dfbmi)"
   ]
  },
  {
   "cell_type": "markdown",
   "id": "57ef0320",
   "metadata": {},
   "source": [
    "## Patient_ID vs Cancer_ID"
   ]
  },
  {
   "cell_type": "code",
   "execution_count": 18,
   "id": "4476dbb7",
   "metadata": {},
   "outputs": [
    {
     "name": "stdout",
     "output_type": "stream",
     "text": [
      "    cancer_id  patient_id\n",
      "0          46           9\n",
      "1          45          19\n",
      "2          44          11\n",
      "3          43          24\n",
      "4          42          10\n",
      "5          41          19\n",
      "6          40          12\n",
      "7          39          24\n",
      "8          38          22\n",
      "9          37           9\n",
      "10         36          10\n",
      "11         35          10\n",
      "12         34          10\n",
      "13         33          21\n",
      "14         32          21\n",
      "15         31          11\n",
      "16         30          20\n",
      "17         29          16\n",
      "18         28          27\n",
      "19         27           8\n",
      "20         26          26\n",
      "21         25          23\n",
      "22         24          19\n",
      "23         23          19\n",
      "24         22          54\n",
      "25         21          53\n",
      "26         20          57\n",
      "27         19          26\n",
      "28         18          35\n",
      "29         17          66\n",
      "30         16          64\n",
      "31         15          91\n",
      "32         14          53\n",
      "33         13          32\n",
      "34         12          21\n",
      "35         11          21\n",
      "36         10          93\n",
      "37          9          72\n",
      "38          8          11\n",
      "39          7         116\n",
      "40          6          57\n",
      "41          5          33\n",
      "42          4          63\n",
      "43          3          91\n",
      "44          2          24\n",
      "45          1          25\n"
     ]
    }
   ],
   "source": [
    "patcan = \"select cancer_id, count(patient_id) as patient_id from patient group by cancer_id order by cancer_id desc \"\n",
    "dfpatcan = pd.read_sql_query(patcan, conn)\n",
    "\n",
    "print(dfpatcan)"
   ]
  },
  {
   "cell_type": "markdown",
   "id": "83c2f08a",
   "metadata": {},
   "source": [
    "## Patient_ID vs Charge_Level"
   ]
  },
  {
   "cell_type": "code",
   "execution_count": 19,
   "id": "bc309951",
   "metadata": {},
   "outputs": [
    {
     "name": "stdout",
     "output_type": "stream",
     "text": [
      "   Charge_Level  patient_id\n",
      "0             4         518\n",
      "1             3         176\n",
      "2             2         622\n",
      "3             1         401\n"
     ]
    }
   ],
   "source": [
    "patchar = \"select Charge_Level, count(patient_id) as patient_id from insurance_info group by charge_level order by charge_level desc \"\n",
    "dfpatchar = pd.read_sql_query(patchar, conn)\n",
    "\n",
    "print(dfpatchar)"
   ]
  },
  {
   "cell_type": "code",
   "execution_count": null,
   "id": "a3720b79",
   "metadata": {},
   "outputs": [],
   "source": []
  }
 ],
 "metadata": {
  "kernelspec": {
   "display_name": "Python 3 (ipykernel)",
   "language": "python",
   "name": "python3"
  },
  "language_info": {
   "codemirror_mode": {
    "name": "ipython",
    "version": 3
   },
   "file_extension": ".py",
   "mimetype": "text/x-python",
   "name": "python",
   "nbconvert_exporter": "python",
   "pygments_lexer": "ipython3",
   "version": "3.9.5"
  }
 },
 "nbformat": 4,
 "nbformat_minor": 5
}
