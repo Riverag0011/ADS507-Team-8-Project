{
 "cells": [
  {
   "cell_type": "markdown",
   "id": "d605cd2a",
   "metadata": {},
   "source": [
    "# ADS507-01 Final Project Visualization"
   ]
  },
  {
   "cell_type": "markdown",
   "id": "1e61d461",
   "metadata": {},
   "source": [
    "Name: Gabi Rivera"
   ]
  },
  {
   "cell_type": "markdown",
   "id": "69b7586e",
   "metadata": {},
   "source": [
    "### Connecting Database"
   ]
  },
  {
   "cell_type": "code",
   "execution_count": 1,
   "id": "0d7b3532",
   "metadata": {},
   "outputs": [],
   "source": [
    "import warnings\n",
    "warnings.filterwarnings('ignore')"
   ]
  },
  {
   "cell_type": "code",
   "execution_count": 2,
   "id": "3864884f",
   "metadata": {},
   "outputs": [],
   "source": [
    "import os\n",
    "import pandas as pd\n",
    "import numpy as np\n",
    "import pymysql as mysql\n",
    "import sqlite3 as sql\n",
    "import seaborn as sns\n",
    "import matplotlib.pyplot as plt\n",
    "import klib"
   ]
  },
  {
   "cell_type": "code",
   "execution_count": 3,
   "id": "192224e9",
   "metadata": {},
   "outputs": [],
   "source": [
    "user = os.environ.get('MYSQL_USER')\n",
    "pwd = os.environ.get('MYSQL_PASS')"
   ]
  },
  {
   "cell_type": "code",
   "execution_count": 4,
   "id": "95493317",
   "metadata": {},
   "outputs": [],
   "source": [
    "conn = mysql.connect(host='localhost',\n",
    "                      port=int(3306),\n",
    "                      user=user,\n",
    "                      password=pwd,\n",
    "                      db='cancer_insur')"
   ]
  },
  {
   "cell_type": "code",
   "execution_count": 5,
   "id": "ee2e8622",
   "metadata": {
    "scrolled": false
   },
   "outputs": [
    {
     "data": {
      "text/html": [
       "<div>\n",
       "<style scoped>\n",
       "    .dataframe tbody tr th:only-of-type {\n",
       "        vertical-align: middle;\n",
       "    }\n",
       "\n",
       "    .dataframe tbody tr th {\n",
       "        vertical-align: top;\n",
       "    }\n",
       "\n",
       "    .dataframe thead th {\n",
       "        text-align: right;\n",
       "    }\n",
       "</style>\n",
       "<table border=\"1\" class=\"dataframe\">\n",
       "  <thead>\n",
       "    <tr style=\"text-align: right;\">\n",
       "      <th></th>\n",
       "      <th>Tables_in_cancer_insur</th>\n",
       "    </tr>\n",
       "  </thead>\n",
       "  <tbody>\n",
       "    <tr>\n",
       "      <th>0</th>\n",
       "      <td>behavior</td>\n",
       "    </tr>\n",
       "    <tr>\n",
       "      <th>1</th>\n",
       "      <td>factor</td>\n",
       "    </tr>\n",
       "    <tr>\n",
       "      <th>2</th>\n",
       "      <td>insurance_info</td>\n",
       "    </tr>\n",
       "    <tr>\n",
       "      <th>3</th>\n",
       "      <td>ipbsf</td>\n",
       "    </tr>\n",
       "    <tr>\n",
       "      <th>4</th>\n",
       "      <td>patient</td>\n",
       "    </tr>\n",
       "    <tr>\n",
       "      <th>5</th>\n",
       "      <td>symptom</td>\n",
       "    </tr>\n",
       "  </tbody>\n",
       "</table>\n",
       "</div>"
      ],
      "text/plain": [
       "  Tables_in_cancer_insur\n",
       "0               behavior\n",
       "1                 factor\n",
       "2         insurance_info\n",
       "3                  ipbsf\n",
       "4                patient\n",
       "5                symptom"
      ]
     },
     "execution_count": 5,
     "metadata": {},
     "output_type": "execute_result"
    }
   ],
   "source": [
    "tableNames = pd.read_sql(\"\"\"SHOW TABLES\"\"\", conn)\n",
    "tableNames"
   ]
  },
  {
   "cell_type": "markdown",
   "id": "3445b9cc",
   "metadata": {},
   "source": [
    "### Tables"
   ]
  },
  {
   "cell_type": "code",
   "execution_count": 6,
   "id": "e036238a",
   "metadata": {
    "scrolled": true
   },
   "outputs": [
    {
     "data": {
      "text/html": [
       "<div>\n",
       "<style scoped>\n",
       "    .dataframe tbody tr th:only-of-type {\n",
       "        vertical-align: middle;\n",
       "    }\n",
       "\n",
       "    .dataframe tbody tr th {\n",
       "        vertical-align: top;\n",
       "    }\n",
       "\n",
       "    .dataframe thead th {\n",
       "        text-align: right;\n",
       "    }\n",
       "</style>\n",
       "<table border=\"1\" class=\"dataframe\">\n",
       "  <thead>\n",
       "    <tr style=\"text-align: right;\">\n",
       "      <th></th>\n",
       "      <th>patient_id</th>\n",
       "      <th>age</th>\n",
       "      <th>gender</th>\n",
       "      <th>bmi_cat</th>\n",
       "      <th>children</th>\n",
       "      <th>region</th>\n",
       "      <th>cancer_id</th>\n",
       "    </tr>\n",
       "  </thead>\n",
       "  <tbody>\n",
       "    <tr>\n",
       "      <th>0</th>\n",
       "      <td>1</td>\n",
       "      <td>33</td>\n",
       "      <td>1</td>\n",
       "      <td>normal</td>\n",
       "      <td>0</td>\n",
       "      <td>northwest</td>\n",
       "      <td>1</td>\n",
       "    </tr>\n",
       "    <tr>\n",
       "      <th>1</th>\n",
       "      <td>2</td>\n",
       "      <td>33</td>\n",
       "      <td>1</td>\n",
       "      <td>high</td>\n",
       "      <td>2</td>\n",
       "      <td>southeast</td>\n",
       "      <td>1</td>\n",
       "    </tr>\n",
       "  </tbody>\n",
       "</table>\n",
       "</div>"
      ],
      "text/plain": [
       "   patient_id  age  gender bmi_cat  children     region  cancer_id\n",
       "0           1   33       1  normal         0  northwest          1\n",
       "1           2   33       1    high         2  southeast          1"
      ]
     },
     "execution_count": 6,
     "metadata": {},
     "output_type": "execute_result"
    }
   ],
   "source": [
    "#Patient Table: \n",
    "pat =pd.read_sql('SELECT * FROM patient',conn)\n",
    "pat.head(2)"
   ]
  },
  {
   "cell_type": "code",
   "execution_count": 7,
   "id": "01f8a167",
   "metadata": {},
   "outputs": [
    {
     "data": {
      "text/html": [
       "<div>\n",
       "<style scoped>\n",
       "    .dataframe tbody tr th:only-of-type {\n",
       "        vertical-align: middle;\n",
       "    }\n",
       "\n",
       "    .dataframe tbody tr th {\n",
       "        vertical-align: top;\n",
       "    }\n",
       "\n",
       "    .dataframe thead th {\n",
       "        text-align: right;\n",
       "    }\n",
       "</style>\n",
       "<table border=\"1\" class=\"dataframe\">\n",
       "  <thead>\n",
       "    <tr style=\"text-align: right;\">\n",
       "      <th></th>\n",
       "      <th>insurance_id</th>\n",
       "      <th>charge_level</th>\n",
       "      <th>patient_id</th>\n",
       "    </tr>\n",
       "  </thead>\n",
       "  <tbody>\n",
       "    <tr>\n",
       "      <th>0</th>\n",
       "      <td>1</td>\n",
       "      <td>4</td>\n",
       "      <td>1</td>\n",
       "    </tr>\n",
       "    <tr>\n",
       "      <th>1</th>\n",
       "      <td>2</td>\n",
       "      <td>1</td>\n",
       "      <td>2</td>\n",
       "    </tr>\n",
       "  </tbody>\n",
       "</table>\n",
       "</div>"
      ],
      "text/plain": [
       "   insurance_id  charge_level  patient_id\n",
       "0             1             4           1\n",
       "1             2             1           2"
      ]
     },
     "execution_count": 7,
     "metadata": {},
     "output_type": "execute_result"
    }
   ],
   "source": [
    "#Insurance Information Table: \n",
    "ins =pd.read_sql('SELECT * FROM insurance_info',conn)\n",
    "ins.head(2)"
   ]
  },
  {
   "cell_type": "code",
   "execution_count": 8,
   "id": "997c3354",
   "metadata": {},
   "outputs": [
    {
     "data": {
      "text/html": [
       "<div>\n",
       "<style scoped>\n",
       "    .dataframe tbody tr th:only-of-type {\n",
       "        vertical-align: middle;\n",
       "    }\n",
       "\n",
       "    .dataframe tbody tr th {\n",
       "        vertical-align: top;\n",
       "    }\n",
       "\n",
       "    .dataframe thead th {\n",
       "        text-align: right;\n",
       "    }\n",
       "</style>\n",
       "<table border=\"1\" class=\"dataframe\">\n",
       "  <thead>\n",
       "    <tr style=\"text-align: right;\">\n",
       "      <th></th>\n",
       "      <th>behavior_id</th>\n",
       "      <th>alcohol_use</th>\n",
       "      <th>smoker</th>\n",
       "      <th>balanced_diet</th>\n",
       "      <th>patient_id</th>\n",
       "    </tr>\n",
       "  </thead>\n",
       "  <tbody>\n",
       "    <tr>\n",
       "      <th>0</th>\n",
       "      <td>1</td>\n",
       "      <td>4</td>\n",
       "      <td>no</td>\n",
       "      <td>2</td>\n",
       "      <td>1</td>\n",
       "    </tr>\n",
       "    <tr>\n",
       "      <th>1</th>\n",
       "      <td>2</td>\n",
       "      <td>4</td>\n",
       "      <td>no</td>\n",
       "      <td>2</td>\n",
       "      <td>2</td>\n",
       "    </tr>\n",
       "  </tbody>\n",
       "</table>\n",
       "</div>"
      ],
      "text/plain": [
       "   behavior_id  alcohol_use smoker  balanced_diet  patient_id\n",
       "0            1            4     no              2           1\n",
       "1            2            4     no              2           2"
      ]
     },
     "execution_count": 8,
     "metadata": {},
     "output_type": "execute_result"
    }
   ],
   "source": [
    "#Behavior Table: \n",
    "beh =pd.read_sql('SELECT * FROM behavior',conn)\n",
    "beh.head(2)"
   ]
  },
  {
   "cell_type": "code",
   "execution_count": 9,
   "id": "521d1cda",
   "metadata": {},
   "outputs": [
    {
     "data": {
      "text/html": [
       "<div>\n",
       "<style scoped>\n",
       "    .dataframe tbody tr th:only-of-type {\n",
       "        vertical-align: middle;\n",
       "    }\n",
       "\n",
       "    .dataframe tbody tr th {\n",
       "        vertical-align: top;\n",
       "    }\n",
       "\n",
       "    .dataframe thead th {\n",
       "        text-align: right;\n",
       "    }\n",
       "</style>\n",
       "<table border=\"1\" class=\"dataframe\">\n",
       "  <thead>\n",
       "    <tr style=\"text-align: right;\">\n",
       "      <th></th>\n",
       "      <th>factor_id</th>\n",
       "      <th>air_pollution</th>\n",
       "      <th>dust_allergy</th>\n",
       "      <th>occupational_hazards</th>\n",
       "      <th>genetic_risk</th>\n",
       "      <th>chronic_lung_disease</th>\n",
       "      <th>cancer_id</th>\n",
       "    </tr>\n",
       "  </thead>\n",
       "  <tbody>\n",
       "    <tr>\n",
       "      <th>0</th>\n",
       "      <td>1</td>\n",
       "      <td>2</td>\n",
       "      <td>5</td>\n",
       "      <td>4</td>\n",
       "      <td>3</td>\n",
       "      <td>2</td>\n",
       "      <td>1</td>\n",
       "    </tr>\n",
       "    <tr>\n",
       "      <th>1</th>\n",
       "      <td>2</td>\n",
       "      <td>6</td>\n",
       "      <td>7</td>\n",
       "      <td>7</td>\n",
       "      <td>7</td>\n",
       "      <td>6</td>\n",
       "      <td>2</td>\n",
       "    </tr>\n",
       "  </tbody>\n",
       "</table>\n",
       "</div>"
      ],
      "text/plain": [
       "   factor_id  air_pollution  dust_allergy  occupational_hazards  genetic_risk  \\\n",
       "0          1              2             5                     4             3   \n",
       "1          2              6             7                     7             7   \n",
       "\n",
       "   chronic_lung_disease  cancer_id  \n",
       "0                     2          1  \n",
       "1                     6          2  "
      ]
     },
     "execution_count": 9,
     "metadata": {},
     "output_type": "execute_result"
    }
   ],
   "source": [
    "#Factor Table:\n",
    "fac =pd.read_sql('SELECT * FROM factor',conn)\n",
    "fac.head(2)"
   ]
  },
  {
   "cell_type": "code",
   "execution_count": 10,
   "id": "0c944672",
   "metadata": {
    "scrolled": true
   },
   "outputs": [
    {
     "data": {
      "text/html": [
       "<div>\n",
       "<style scoped>\n",
       "    .dataframe tbody tr th:only-of-type {\n",
       "        vertical-align: middle;\n",
       "    }\n",
       "\n",
       "    .dataframe tbody tr th {\n",
       "        vertical-align: top;\n",
       "    }\n",
       "\n",
       "    .dataframe thead th {\n",
       "        text-align: right;\n",
       "    }\n",
       "</style>\n",
       "<table border=\"1\" class=\"dataframe\">\n",
       "  <thead>\n",
       "    <tr style=\"text-align: right;\">\n",
       "      <th></th>\n",
       "      <th>cancer_id</th>\n",
       "      <th>chest_pain</th>\n",
       "      <th>coughing_of_blood</th>\n",
       "      <th>fatigue</th>\n",
       "      <th>weight_loss</th>\n",
       "      <th>shortness_of_breath</th>\n",
       "      <th>wheezing</th>\n",
       "      <th>swallowing_wifficulty</th>\n",
       "      <th>clubbing_of_inger_nails</th>\n",
       "      <th>frequent_cold</th>\n",
       "      <th>dry_cough</th>\n",
       "      <th>snoring</th>\n",
       "      <th>cancer_level</th>\n",
       "    </tr>\n",
       "  </thead>\n",
       "  <tbody>\n",
       "    <tr>\n",
       "      <th>0</th>\n",
       "      <td>1</td>\n",
       "      <td>2</td>\n",
       "      <td>4</td>\n",
       "      <td>3</td>\n",
       "      <td>4</td>\n",
       "      <td>2</td>\n",
       "      <td>2</td>\n",
       "      <td>3</td>\n",
       "      <td>1</td>\n",
       "      <td>2</td>\n",
       "      <td>3</td>\n",
       "      <td>4</td>\n",
       "      <td>Low</td>\n",
       "    </tr>\n",
       "    <tr>\n",
       "      <th>1</th>\n",
       "      <td>2</td>\n",
       "      <td>7</td>\n",
       "      <td>7</td>\n",
       "      <td>4</td>\n",
       "      <td>4</td>\n",
       "      <td>5</td>\n",
       "      <td>6</td>\n",
       "      <td>5</td>\n",
       "      <td>5</td>\n",
       "      <td>4</td>\n",
       "      <td>6</td>\n",
       "      <td>5</td>\n",
       "      <td>High</td>\n",
       "    </tr>\n",
       "  </tbody>\n",
       "</table>\n",
       "</div>"
      ],
      "text/plain": [
       "   cancer_id  chest_pain  coughing_of_blood  fatigue  weight_loss  \\\n",
       "0          1           2                  4        3            4   \n",
       "1          2           7                  7        4            4   \n",
       "\n",
       "   shortness_of_breath  wheezing  swallowing_wifficulty  \\\n",
       "0                    2         2                      3   \n",
       "1                    5         6                      5   \n",
       "\n",
       "   clubbing_of_inger_nails  frequent_cold  dry_cough  snoring cancer_level  \n",
       "0                        1              2          3        4          Low  \n",
       "1                        5              4          6        5         High  "
      ]
     },
     "execution_count": 10,
     "metadata": {},
     "output_type": "execute_result"
    }
   ],
   "source": [
    "#Symptom Table: \n",
    "sym =pd.read_sql('SELECT * FROM symptom',conn)\n",
    "sym.head(2)"
   ]
  },
  {
   "cell_type": "markdown",
   "id": "b0410ce4",
   "metadata": {},
   "source": [
    "### Transformation"
   ]
  },
  {
   "cell_type": "markdown",
   "id": "a042ee08",
   "metadata": {},
   "source": [
    "Created ipbsf View in SQL:\n",
    "\n",
    "create view ipbsf as\n",
    "select p.patient_id, p.age, p.gender, i.charge_level,\n",
    "b.smoker, s.cancer_level, f.air_pollution, \n",
    "f.occupational_hazards, f.genetic_risk\n",
    "from patient p\n",
    "inner join insurance_info i\n",
    "on p.patient_id = i.patient_id\n",
    "inner join behavior b\n",
    "on p.patient_id = b.patient_id\n",
    "inner join symptom s\n",
    "on s.cancer_id = p.cancer_id\n",
    "inner join factor f\n",
    "on f.cancer_id = s.cancer_id;"
   ]
  },
  {
   "cell_type": "code",
   "execution_count": 11,
   "id": "90c9db0a",
   "metadata": {
    "scrolled": true
   },
   "outputs": [
    {
     "data": {
      "text/html": [
       "<div>\n",
       "<style scoped>\n",
       "    .dataframe tbody tr th:only-of-type {\n",
       "        vertical-align: middle;\n",
       "    }\n",
       "\n",
       "    .dataframe tbody tr th {\n",
       "        vertical-align: top;\n",
       "    }\n",
       "\n",
       "    .dataframe thead th {\n",
       "        text-align: right;\n",
       "    }\n",
       "</style>\n",
       "<table border=\"1\" class=\"dataframe\">\n",
       "  <thead>\n",
       "    <tr style=\"text-align: right;\">\n",
       "      <th></th>\n",
       "      <th>patient_id</th>\n",
       "      <th>age</th>\n",
       "      <th>gender</th>\n",
       "      <th>charge_level</th>\n",
       "      <th>smoker</th>\n",
       "      <th>cancer_level</th>\n",
       "      <th>air_pollution</th>\n",
       "      <th>occupational_hazards</th>\n",
       "      <th>genetic_risk</th>\n",
       "    </tr>\n",
       "  </thead>\n",
       "  <tbody>\n",
       "    <tr>\n",
       "      <th>0</th>\n",
       "      <td>1</td>\n",
       "      <td>33</td>\n",
       "      <td>1</td>\n",
       "      <td>4</td>\n",
       "      <td>no</td>\n",
       "      <td>Low</td>\n",
       "      <td>2</td>\n",
       "      <td>4</td>\n",
       "      <td>3</td>\n",
       "    </tr>\n",
       "    <tr>\n",
       "      <th>1</th>\n",
       "      <td>2</td>\n",
       "      <td>33</td>\n",
       "      <td>1</td>\n",
       "      <td>1</td>\n",
       "      <td>no</td>\n",
       "      <td>Low</td>\n",
       "      <td>2</td>\n",
       "      <td>4</td>\n",
       "      <td>3</td>\n",
       "    </tr>\n",
       "  </tbody>\n",
       "</table>\n",
       "</div>"
      ],
      "text/plain": [
       "   patient_id  age  gender  charge_level smoker cancer_level  air_pollution  \\\n",
       "0           1   33       1             4     no          Low              2   \n",
       "1           2   33       1             1     no          Low              2   \n",
       "\n",
       "   occupational_hazards  genetic_risk  \n",
       "0                     4             3  \n",
       "1                     4             3  "
      ]
     },
     "execution_count": 11,
     "metadata": {},
     "output_type": "execute_result"
    }
   ],
   "source": [
    "#ipbsf view table (combined all tables and selected specific attributes):\n",
    "ipbsf =pd.read_sql('SELECT * FROM ipbsf',conn)\n",
    "ipbsf.head(2)"
   ]
  },
  {
   "cell_type": "code",
   "execution_count": 12,
   "id": "c860f3ea",
   "metadata": {
    "scrolled": false
   },
   "outputs": [
    {
     "name": "stdout",
     "output_type": "stream",
     "text": [
      "<class 'pandas.core.frame.DataFrame'>\n",
      "RangeIndex: 2374 entries, 0 to 2373\n",
      "Data columns (total 9 columns):\n",
      " #   Column                Non-Null Count  Dtype \n",
      "---  ------                --------------  ----- \n",
      " 0   patient_id            2374 non-null   int64 \n",
      " 1   age                   2374 non-null   int64 \n",
      " 2   gender                2374 non-null   int64 \n",
      " 3   charge_level          2374 non-null   int64 \n",
      " 4   smoker                2374 non-null   object\n",
      " 5   cancer_level          2374 non-null   object\n",
      " 6   air_pollution         2374 non-null   int64 \n",
      " 7   occupational_hazards  2374 non-null   int64 \n",
      " 8   genetic_risk          2374 non-null   int64 \n",
      "dtypes: int64(7), object(2)\n",
      "memory usage: 167.0+ KB\n"
     ]
    }
   ],
   "source": [
    "ipbsf.info()"
   ]
  },
  {
   "cell_type": "code",
   "execution_count": 13,
   "id": "ba8d1f16",
   "metadata": {},
   "outputs": [
    {
     "data": {
      "text/html": [
       "<div>\n",
       "<style scoped>\n",
       "    .dataframe tbody tr th:only-of-type {\n",
       "        vertical-align: middle;\n",
       "    }\n",
       "\n",
       "    .dataframe tbody tr th {\n",
       "        vertical-align: top;\n",
       "    }\n",
       "\n",
       "    .dataframe thead th {\n",
       "        text-align: right;\n",
       "    }\n",
       "</style>\n",
       "<table border=\"1\" class=\"dataframe\">\n",
       "  <thead>\n",
       "    <tr style=\"text-align: right;\">\n",
       "      <th></th>\n",
       "      <th>patient_id</th>\n",
       "      <th>age</th>\n",
       "      <th>gender</th>\n",
       "      <th>charge_level</th>\n",
       "      <th>air_pollution</th>\n",
       "      <th>occupational_hazards</th>\n",
       "      <th>genetic_risk</th>\n",
       "    </tr>\n",
       "  </thead>\n",
       "  <tbody>\n",
       "    <tr>\n",
       "      <th>count</th>\n",
       "      <td>2374.000000</td>\n",
       "      <td>2374.000000</td>\n",
       "      <td>2374.000000</td>\n",
       "      <td>2374.000000</td>\n",
       "      <td>2374.000000</td>\n",
       "      <td>2374.000000</td>\n",
       "      <td>2374.000000</td>\n",
       "    </tr>\n",
       "    <tr>\n",
       "      <th>mean</th>\n",
       "      <td>801.086773</td>\n",
       "      <td>37.604465</td>\n",
       "      <td>1.385004</td>\n",
       "      <td>2.510531</td>\n",
       "      <td>4.285173</td>\n",
       "      <td>5.039596</td>\n",
       "      <td>4.817607</td>\n",
       "    </tr>\n",
       "    <tr>\n",
       "      <th>std</th>\n",
       "      <td>449.923464</td>\n",
       "      <td>10.822157</td>\n",
       "      <td>0.486699</td>\n",
       "      <td>1.177331</td>\n",
       "      <td>2.125036</td>\n",
       "      <td>2.096721</td>\n",
       "      <td>2.071013</td>\n",
       "    </tr>\n",
       "    <tr>\n",
       "      <th>min</th>\n",
       "      <td>1.000000</td>\n",
       "      <td>18.000000</td>\n",
       "      <td>1.000000</td>\n",
       "      <td>1.000000</td>\n",
       "      <td>1.000000</td>\n",
       "      <td>1.000000</td>\n",
       "      <td>1.000000</td>\n",
       "    </tr>\n",
       "    <tr>\n",
       "      <th>25%</th>\n",
       "      <td>424.250000</td>\n",
       "      <td>28.000000</td>\n",
       "      <td>1.000000</td>\n",
       "      <td>2.000000</td>\n",
       "      <td>2.000000</td>\n",
       "      <td>3.000000</td>\n",
       "      <td>3.000000</td>\n",
       "    </tr>\n",
       "    <tr>\n",
       "      <th>50%</th>\n",
       "      <td>779.000000</td>\n",
       "      <td>37.000000</td>\n",
       "      <td>1.000000</td>\n",
       "      <td>2.000000</td>\n",
       "      <td>4.000000</td>\n",
       "      <td>5.000000</td>\n",
       "      <td>5.000000</td>\n",
       "    </tr>\n",
       "    <tr>\n",
       "      <th>75%</th>\n",
       "      <td>1213.750000</td>\n",
       "      <td>45.000000</td>\n",
       "      <td>2.000000</td>\n",
       "      <td>4.000000</td>\n",
       "      <td>6.000000</td>\n",
       "      <td>7.000000</td>\n",
       "      <td>7.000000</td>\n",
       "    </tr>\n",
       "    <tr>\n",
       "      <th>max</th>\n",
       "      <td>1558.000000</td>\n",
       "      <td>64.000000</td>\n",
       "      <td>2.000000</td>\n",
       "      <td>4.000000</td>\n",
       "      <td>8.000000</td>\n",
       "      <td>8.000000</td>\n",
       "      <td>7.000000</td>\n",
       "    </tr>\n",
       "  </tbody>\n",
       "</table>\n",
       "</div>"
      ],
      "text/plain": [
       "        patient_id          age       gender  charge_level  air_pollution  \\\n",
       "count  2374.000000  2374.000000  2374.000000   2374.000000    2374.000000   \n",
       "mean    801.086773    37.604465     1.385004      2.510531       4.285173   \n",
       "std     449.923464    10.822157     0.486699      1.177331       2.125036   \n",
       "min       1.000000    18.000000     1.000000      1.000000       1.000000   \n",
       "25%     424.250000    28.000000     1.000000      2.000000       2.000000   \n",
       "50%     779.000000    37.000000     1.000000      2.000000       4.000000   \n",
       "75%    1213.750000    45.000000     2.000000      4.000000       6.000000   \n",
       "max    1558.000000    64.000000     2.000000      4.000000       8.000000   \n",
       "\n",
       "       occupational_hazards  genetic_risk  \n",
       "count           2374.000000   2374.000000  \n",
       "mean               5.039596      4.817607  \n",
       "std                2.096721      2.071013  \n",
       "min                1.000000      1.000000  \n",
       "25%                3.000000      3.000000  \n",
       "50%                5.000000      5.000000  \n",
       "75%                7.000000      7.000000  \n",
       "max                8.000000      7.000000  "
      ]
     },
     "execution_count": 13,
     "metadata": {},
     "output_type": "execute_result"
    }
   ],
   "source": [
    "ipbsf.describe()"
   ]
  },
  {
   "cell_type": "markdown",
   "id": "d52d2b05",
   "metadata": {},
   "source": [
    "Transform age attribute from continous to categorical:"
   ]
  },
  {
   "cell_type": "code",
   "execution_count": 14,
   "id": "f905abfe",
   "metadata": {
    "scrolled": true
   },
   "outputs": [
    {
     "data": {
      "text/html": [
       "<div>\n",
       "<style scoped>\n",
       "    .dataframe tbody tr th:only-of-type {\n",
       "        vertical-align: middle;\n",
       "    }\n",
       "\n",
       "    .dataframe tbody tr th {\n",
       "        vertical-align: top;\n",
       "    }\n",
       "\n",
       "    .dataframe thead th {\n",
       "        text-align: right;\n",
       "    }\n",
       "</style>\n",
       "<table border=\"1\" class=\"dataframe\">\n",
       "  <thead>\n",
       "    <tr style=\"text-align: right;\">\n",
       "      <th></th>\n",
       "      <th>patient_id</th>\n",
       "      <th>age</th>\n",
       "      <th>gender</th>\n",
       "      <th>charge_level</th>\n",
       "      <th>smoker</th>\n",
       "      <th>cancer_level</th>\n",
       "      <th>air_pollution</th>\n",
       "      <th>occupational_hazards</th>\n",
       "      <th>genetic_risk</th>\n",
       "    </tr>\n",
       "  </thead>\n",
       "  <tbody>\n",
       "    <tr>\n",
       "      <th>0</th>\n",
       "      <td>1</td>\n",
       "      <td>25-35</td>\n",
       "      <td>1</td>\n",
       "      <td>4</td>\n",
       "      <td>no</td>\n",
       "      <td>Low</td>\n",
       "      <td>2</td>\n",
       "      <td>4</td>\n",
       "      <td>3</td>\n",
       "    </tr>\n",
       "    <tr>\n",
       "      <th>1</th>\n",
       "      <td>2</td>\n",
       "      <td>25-35</td>\n",
       "      <td>1</td>\n",
       "      <td>1</td>\n",
       "      <td>no</td>\n",
       "      <td>Low</td>\n",
       "      <td>2</td>\n",
       "      <td>4</td>\n",
       "      <td>3</td>\n",
       "    </tr>\n",
       "    <tr>\n",
       "      <th>2</th>\n",
       "      <td>3</td>\n",
       "      <td>25-35</td>\n",
       "      <td>1</td>\n",
       "      <td>3</td>\n",
       "      <td>no</td>\n",
       "      <td>Low</td>\n",
       "      <td>2</td>\n",
       "      <td>4</td>\n",
       "      <td>3</td>\n",
       "    </tr>\n",
       "    <tr>\n",
       "      <th>3</th>\n",
       "      <td>4</td>\n",
       "      <td>25-35</td>\n",
       "      <td>1</td>\n",
       "      <td>3</td>\n",
       "      <td>no</td>\n",
       "      <td>Low</td>\n",
       "      <td>2</td>\n",
       "      <td>4</td>\n",
       "      <td>3</td>\n",
       "    </tr>\n",
       "    <tr>\n",
       "      <th>4</th>\n",
       "      <td>4</td>\n",
       "      <td>25-35</td>\n",
       "      <td>1</td>\n",
       "      <td>4</td>\n",
       "      <td>no</td>\n",
       "      <td>Low</td>\n",
       "      <td>2</td>\n",
       "      <td>4</td>\n",
       "      <td>3</td>\n",
       "    </tr>\n",
       "  </tbody>\n",
       "</table>\n",
       "</div>"
      ],
      "text/plain": [
       "   patient_id    age  gender  charge_level smoker cancer_level  air_pollution  \\\n",
       "0           1  25-35       1             4     no          Low              2   \n",
       "1           2  25-35       1             1     no          Low              2   \n",
       "2           3  25-35       1             3     no          Low              2   \n",
       "3           4  25-35       1             3     no          Low              2   \n",
       "4           4  25-35       1             4     no          Low              2   \n",
       "\n",
       "   occupational_hazards  genetic_risk  \n",
       "0                     4             3  \n",
       "1                     4             3  \n",
       "2                     4             3  \n",
       "3                     4             3  \n",
       "4                     4             3  "
      ]
     },
     "execution_count": 14,
     "metadata": {},
     "output_type": "execute_result"
    }
   ],
   "source": [
    "ipbsf['age'] = pd.cut(x=ipbsf['age'], bins=[18, 25, 35, 45, 55, 65],\n",
    "                      right = False,\n",
    "                     labels=['18-25', '25-35','35-45',\n",
    "                             '45-55','55-65'])\n",
    "ipbsf.head()"
   ]
  },
  {
   "cell_type": "code",
   "execution_count": 15,
   "id": "43c3a1d7",
   "metadata": {},
   "outputs": [
    {
     "name": "stdout",
     "output_type": "stream",
     "text": [
      "No missing values found in the dataset.\n"
     ]
    }
   ],
   "source": [
    "klib.missingval_plot(ipbsf)"
   ]
  },
  {
   "cell_type": "markdown",
   "id": "8cc80c1a",
   "metadata": {},
   "source": [
    "### Data Exploration"
   ]
  },
  {
   "cell_type": "markdown",
   "id": "8e321d01",
   "metadata": {},
   "source": [
    "Distribution of (1)Males and (2)Females:"
   ]
  },
  {
   "cell_type": "code",
   "execution_count": 16,
   "id": "0212dd44",
   "metadata": {
    "scrolled": false
   },
   "outputs": [
    {
     "data": {
      "text/plain": [
       "Text(0.5, 1.0, 'Gender Count')"
      ]
     },
     "execution_count": 16,
     "metadata": {},
     "output_type": "execute_result"
    },
    {
     "data": {
      "image/png": "[encoded data removed]",
      "text/plain": [
       "<Figure size 600x400 with 1 Axes>"
      ]
     },
     "metadata": {},
     "output_type": "display_data"
    }
   ],
   "source": [
    "sns.catplot(data= ipbsf,x = 'gender', kind=\"count\", \n",
    "             palette = \"ch:s=-.2,r=.6\")\n",
    "\n",
    "plt.gcf().set_size_inches(6, 4)\n",
    "plt.xlabel('Gender')\n",
    "plt.ylabel('Frequency')\n",
    "plt.title(\"Gender Count\")"
   ]
  },
  {
   "cell_type": "markdown",
   "id": "6d15f5c9",
   "metadata": {},
   "source": [
    "Charge Based on Cancer Level by Gender Bar Plot:"
   ]
  },
  {
   "cell_type": "code",
   "execution_count": 17,
   "id": "38d823b8",
   "metadata": {
    "scrolled": true
   },
   "outputs": [
    {
     "data": {
      "text/plain": [
       "Text(0.5, 1.0, 'Charge Based on Cancer Level by Gender')"
      ]
     },
     "execution_count": 17,
     "metadata": {},
     "output_type": "execute_result"
    },
    {
     "data": {
      "image/png": "[encoded data removed]",
      "text/plain": [
       "<Figure size 600x400 with 1 Axes>"
      ]
     },
     "metadata": {},
     "output_type": "display_data"
    }
   ],
   "source": [
    "sns.barplot(data= ipbsf,x = 'cancer_level', y = 'charge_level', \n",
    "            hue = 'gender', palette = \"ch:s=-.2,r=.6\")\n",
    "\n",
    "plt.gcf().set_size_inches(6, 4)\n",
    "plt.xlabel('Cancer Level')\n",
    "plt.ylabel('Charge Level')\n",
    "plt.legend(loc='right', title = 'Gender')\n",
    "plt.title(\"Charge Based on Cancer Level by Gender\")"
   ]
  },
  {
   "cell_type": "markdown",
   "id": "1e1fadde",
   "metadata": {},
   "source": [
    "Charge Based on Age Group by Gender Bar Plot:"
   ]
  },
  {
   "cell_type": "code",
   "execution_count": 18,
   "id": "c01e9a6b",
   "metadata": {
    "scrolled": true
   },
   "outputs": [
    {
     "data": {
      "text/plain": [
       "Text(0.5, 1.0, 'Charge Based on Age Group by Gender')"
      ]
     },
     "execution_count": 18,
     "metadata": {},
     "output_type": "execute_result"
    },
    {
     "data": {
      "image/png": "[encoded data removed]",
      "text/plain": [
       "<Figure size 600x400 with 1 Axes>"
      ]
     },
     "metadata": {},
     "output_type": "display_data"
    }
   ],
   "source": [
    "sns.barplot(data= ipbsf,x = 'age', y = 'charge_level', \n",
    "            hue = 'gender', palette = \"ch:s=-.2,r=.6\")\n",
    "\n",
    "plt.gcf().set_size_inches(6, 4)\n",
    "plt.xlabel('Age Group')\n",
    "plt.ylabel('Charge Level')\n",
    "plt.legend(loc='upper left', title = 'Gender')\n",
    "plt.title(\"Charge Based on Age Group by Gender\")"
   ]
  },
  {
   "cell_type": "markdown",
   "id": "7b65ddd4",
   "metadata": {},
   "source": [
    "Charge Based on Smoking Behavior by Gender Bar Plot: "
   ]
  },
  {
   "cell_type": "code",
   "execution_count": 19,
   "id": "263c987d",
   "metadata": {
    "scrolled": true
   },
   "outputs": [
    {
     "data": {
      "text/plain": [
       "Text(0.5, 1.0, 'Charge Based on Smoking Behavior by Gender')"
      ]
     },
     "execution_count": 19,
     "metadata": {},
     "output_type": "execute_result"
    },
    {
     "data": {
      "image/png": "[encoded data removed]",
      "text/plain": [
       "<Figure size 600x400 with 1 Axes>"
      ]
     },
     "metadata": {},
     "output_type": "display_data"
    }
   ],
   "source": [
    "sns.barplot(data= ipbsf,x = 'smoker', y = 'charge_level', \n",
    "            hue = 'gender', palette = \"ch:s=-.2,r=.6\")\n",
    "\n",
    "plt.gcf().set_size_inches(6, 4)\n",
    "plt.xlabel('Smoker')\n",
    "plt.ylabel('Charge Level')\n",
    "plt.legend(loc='upper left', title = 'Gender')\n",
    "plt.title(\"Charge Based on Smoking Behavior by Gender\")"
   ]
  },
  {
   "cell_type": "markdown",
   "id": "9ddb453f",
   "metadata": {},
   "source": [
    "Charge Level Based on Air Pollution by Gender:"
   ]
  },
  {
   "cell_type": "code",
   "execution_count": 20,
   "id": "98dae14b",
   "metadata": {},
   "outputs": [
    {
     "data": {
      "text/plain": [
       "Text(0.5, 1.0, 'Charge Level Based on Air Pollution by Gender')"
      ]
     },
     "execution_count": 20,
     "metadata": {},
     "output_type": "execute_result"
    },
    {
     "data": {
      "image/png": "[encoded data removed]",
      "text/plain": [
       "<Figure size 800x400 with 1 Axes>"
      ]
     },
     "metadata": {},
     "output_type": "display_data"
    }
   ],
   "source": [
    "sns.barplot(data= ipbsf,x = 'air_pollution', y = 'charge_level', \n",
    "             hue = 'gender', palette = \"ch:s=-.2,r=.6\")\n",
    "\n",
    "plt.gcf().set_size_inches(8, 4)\n",
    "plt.xlabel('Air Pollution Level')\n",
    "plt.ylabel('Charge Level')\n",
    "plt.legend(loc='lower right', title = 'Gender')\n",
    "plt.title(\"Charge Level Based on Air Pollution by Gender\")"
   ]
  },
  {
   "cell_type": "markdown",
   "id": "066c7d86",
   "metadata": {},
   "source": [
    "Charge Level Based on Occupational Hazards by Gender:"
   ]
  },
  {
   "cell_type": "code",
   "execution_count": 21,
   "id": "20f82b2e",
   "metadata": {},
   "outputs": [
    {
     "data": {
      "text/plain": [
       "Text(0.5, 1.0, 'Charge Level Based on Occupational Hazards by Gender')"
      ]
     },
     "execution_count": 21,
     "metadata": {},
     "output_type": "execute_result"
    },
    {
     "data": {
      "image/png": "[encoded data removed]",
      "text/plain": [
       "<Figure size 800x400 with 1 Axes>"
      ]
     },
     "metadata": {},
     "output_type": "display_data"
    }
   ],
   "source": [
    "sns.barplot(data= ipbsf,x = 'occupational_hazards', y = 'charge_level', \n",
    "             hue = 'gender', palette = \"ch:s=-.2,r=.6\")\n",
    "\n",
    "plt.gcf().set_size_inches(8, 4)\n",
    "plt.xlabel('Occupational Hazards Level')\n",
    "plt.ylabel('Charge Level')\n",
    "plt.legend(loc='lower right', title = 'Gender')\n",
    "plt.title(\"Charge Level Based on Occupational Hazards by Gender\")"
   ]
  },
  {
   "cell_type": "markdown",
   "id": "c379f546",
   "metadata": {},
   "source": [
    "Charge Level Based on Genetic Risk by Gender:"
   ]
  },
  {
   "cell_type": "code",
   "execution_count": 22,
   "id": "21a97ea1",
   "metadata": {},
   "outputs": [
    {
     "data": {
      "text/plain": [
       "Text(0.5, 1.0, 'Charge Level Based on Genetic Risk by Gender')"
      ]
     },
     "execution_count": 22,
     "metadata": {},
     "output_type": "execute_result"
    },
    {
     "data": {
      "image/png": "[encoded data removed]",
      "text/plain": [
       "<Figure size 800x400 with 1 Axes>"
      ]
     },
     "metadata": {},
     "output_type": "display_data"
    }
   ],
   "source": [
    "sns.barplot(data= ipbsf,x = 'genetic_risk', y = 'charge_level', \n",
    "             hue = 'gender', palette = \"ch:s=-.2,r=.6\")\n",
    "\n",
    "plt.gcf().set_size_inches(8, 4)\n",
    "plt.xlabel('Genetic Risk Level')\n",
    "plt.ylabel('Charge Level')\n",
    "plt.legend(loc='lower right', title = 'Gender')\n",
    "plt.title(\"Charge Level Based on Genetic Risk by Gender\")"
   ]
  },
  {
   "cell_type": "code",
   "execution_count": null,
   "id": "7f78a568",
   "metadata": {},
   "outputs": [],
   "source": []
  }
 ],
 "metadata": {
  "kernelspec": {
   "display_name": "Python [conda env:root] *",
   "language": "python",
   "name": "conda-root-py"
  },
  "language_info": {
   "codemirror_mode": {
    "name": "ipython",
    "version": 3
   },
   "file_extension": ".py",
   "mimetype": "text/x-python",
   "name": "python",
   "nbconvert_exporter": "python",
   "pygments_lexer": "ipython3",
   "version": "3.8.13"
  }
 },
 "nbformat": 4,
 "nbformat_minor": 5
}
